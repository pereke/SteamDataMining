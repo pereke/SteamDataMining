{
  "nbformat": 4,
  "nbformat_minor": 0,
  "metadata": {
    "colab": {
      "name": "MineracaoDeDados.ipynb",
      "provenance": [],
      "collapsed_sections": [],
      "toc_visible": true
    },
    "kernelspec": {
      "name": "python3",
      "display_name": "Python 3"
    }
  },
  "cells": [
    {
      "cell_type": "code",
      "metadata": {
        "id": "mN053YzdiVZX",
        "colab_type": "code",
        "outputId": "2d4f8a39-8ad2-4bdb-a97b-37d0f323e599",
        "colab": {
          "base_uri": "https://localhost:8080/",
          "height": 54
        }
      },
      "source": [
        "from google.colab import drive\n",
        "drive.mount('/content/drive')"
      ],
      "execution_count": 0,
      "outputs": [
        {
          "output_type": "stream",
          "text": [
            "Drive already mounted at /content/drive; to attempt to forcibly remount, call drive.mount(\"/content/drive\", force_remount=True).\n"
          ],
          "name": "stdout"
        }
      ]
    },
    {
      "cell_type": "code",
      "metadata": {
        "id": "nsOeQkklig6R",
        "colab_type": "code",
        "colab": {}
      },
      "source": [
        "import pandas\n",
        "import numpy "
      ],
      "execution_count": 0,
      "outputs": []
    },
    {
      "cell_type": "markdown",
      "metadata": {
        "id": "7DaURNzbin5W",
        "colab_type": "text"
      },
      "source": [
        "Lendo arquivo e retirando coluna 'english', 'median_playtime', 'required_age'"
      ]
    },
    {
      "cell_type": "code",
      "metadata": {
        "id": "NQ9jFUMmig1D",
        "colab_type": "code",
        "colab": {}
      },
      "source": [
        "df = pandas.read_csv('/content/drive/My Drive/steam.csv').drop(columns=['english', 'median_playtime', 'required_age'])"
      ],
      "execution_count": 0,
      "outputs": []
    },
    {
      "cell_type": "markdown",
      "metadata": {
        "id": "efPloCWljADG",
        "colab_type": "text"
      },
      "source": [
        "Calculando porcentagem de analises positivas"
      ]
    },
    {
      "cell_type": "code",
      "metadata": {
        "id": "zBbQ-d9ki92H",
        "colab_type": "code",
        "colab": {}
      },
      "source": [
        "df['rate'] = df['positive_ratings'] / (df['positive_ratings'] + df['negative_ratings'])"
      ],
      "execution_count": 0,
      "outputs": []
    },
    {
      "cell_type": "markdown",
      "metadata": {
        "id": "2DwpyQe4jGcN",
        "colab_type": "text"
      },
      "source": [
        "Dividindo dados de acordo com rate para facilitar a classificação"
      ]
    },
    {
      "cell_type": "code",
      "metadata": {
        "id": "xTziRs0-jaWY",
        "colab_type": "code",
        "colab": {}
      },
      "source": [
        "df1 = df[df['rate'] <= 0.50]\n",
        "df2 = df[df['rate'] > 0.50]"
      ],
      "execution_count": 0,
      "outputs": []
    },
    {
      "cell_type": "markdown",
      "metadata": {
        "id": "RZD6b_LVjd_3",
        "colab_type": "text"
      },
      "source": [
        "Aplicando classificação para cada faixa de rate"
      ]
    },
    {
      "cell_type": "code",
      "metadata": {
        "id": "X-7WP9SXjhAC",
        "colab_type": "code",
        "outputId": "0cd73c71-1f6b-4a47-a7f2-31c27770e989",
        "colab": {
          "base_uri": "https://localhost:8080/",
          "height": 241
        }
      },
      "source": [
        "df1['c'] = 'negativo'\n",
        "df2['c'] = 'positivo'"
      ],
      "execution_count": 0,
      "outputs": [
        {
          "output_type": "stream",
          "text": [
            "/usr/local/lib/python3.6/dist-packages/ipykernel_launcher.py:1: SettingWithCopyWarning: \n",
            "A value is trying to be set on a copy of a slice from a DataFrame.\n",
            "Try using .loc[row_indexer,col_indexer] = value instead\n",
            "\n",
            "See the caveats in the documentation: http://pandas.pydata.org/pandas-docs/stable/user_guide/indexing.html#returning-a-view-versus-a-copy\n",
            "  \"\"\"Entry point for launching an IPython kernel.\n",
            "/usr/local/lib/python3.6/dist-packages/ipykernel_launcher.py:2: SettingWithCopyWarning: \n",
            "A value is trying to be set on a copy of a slice from a DataFrame.\n",
            "Try using .loc[row_indexer,col_indexer] = value instead\n",
            "\n",
            "See the caveats in the documentation: http://pandas.pydata.org/pandas-docs/stable/user_guide/indexing.html#returning-a-view-versus-a-copy\n",
            "  \n"
          ],
          "name": "stderr"
        }
      ]
    },
    {
      "cell_type": "markdown",
      "metadata": {
        "id": "0P7qNrXpjzSO",
        "colab_type": "text"
      },
      "source": [
        "Concatenando os dados que foram divididos"
      ]
    },
    {
      "cell_type": "code",
      "metadata": {
        "id": "MMj3qKE2ju_o",
        "colab_type": "code",
        "colab": {}
      },
      "source": [
        "df = pandas.concat([df1, df2])"
      ],
      "execution_count": 0,
      "outputs": []
    },
    {
      "cell_type": "markdown",
      "metadata": {
        "id": "j2QbOhjcj6yQ",
        "colab_type": "text"
      },
      "source": [
        "Retirando atributos que nao serão mais utilizados"
      ]
    },
    {
      "cell_type": "code",
      "metadata": {
        "id": "QFrgfDi7j6Xv",
        "colab_type": "code",
        "colab": {}
      },
      "source": [
        "df = df.drop(columns=['positive_ratings', 'negative_ratings', 'rate'])"
      ],
      "execution_count": 0,
      "outputs": []
    },
    {
      "cell_type": "code",
      "metadata": {
        "id": "bJgmqSxjj8cv",
        "colab_type": "code",
        "colab": {}
      },
      "source": [
        "df['average_playtime'].fillna(df['average_playtime'].mean(), inplace=True)"
      ],
      "execution_count": 0,
      "outputs": []
    },
    {
      "cell_type": "code",
      "metadata": {
        "id": "r875OQUWkcwT",
        "colab_type": "code",
        "colab": {}
      },
      "source": [
        "df = df.sort_values('appid')\n",
        "df = df.drop(columns=['appid'])"
      ],
      "execution_count": 0,
      "outputs": []
    },
    {
      "cell_type": "code",
      "metadata": {
        "id": "x4tZEsbulgaN",
        "colab_type": "code",
        "colab": {}
      },
      "source": [
        "df = df.replace('0-20000', '10000')\n",
        "df = df.replace('20000-50000', '35000.0')\n",
        "df = df.replace('50000-100000', '75000.0')\n",
        "df = df.replace('100000-200000', '150000.0')\n",
        "df = df.replace('200000-500000', '350000.0')\n",
        "df = df.replace('500000-1000000', '750000.0')\n",
        "df = df.replace('1000000-2000000', '1500000.0')\n",
        "df = df.replace('2000000-5000000', '3500000.0')\n",
        "df = df.replace('5000000-10000000', '7500000.0')\n",
        "df = df.replace('10000000-20000000', '15000000.0')\n",
        "df = df.replace('20000000-50000000', '35000000.0')\n",
        "df = df.replace('50000000-100000000', '75000000.0')\n",
        "df = df.replace('100000000-200000000', '150000000')"
      ],
      "execution_count": 0,
      "outputs": []
    },
    {
      "cell_type": "markdown",
      "metadata": {
        "id": "UO3wQCn7lmfP",
        "colab_type": "text"
      },
      "source": [
        "Dummy dos genres"
      ]
    },
    {
      "cell_type": "code",
      "metadata": {
        "id": "a5g2euwSloIj",
        "colab_type": "code",
        "colab": {}
      },
      "source": [
        "genres = (df['genres'].apply(lambda x: str(x)\n",
        "                                     .split(\",\")))\n",
        "genres = genres.to_list()\n",
        "unique_list_of_genres = []\n",
        "for list_of_each_game in genres:\n",
        "    splited_string = list_of_each_game[0].split(';')\n",
        "    for genre in splited_string:\n",
        "        unique_list_of_genres.append(genre)\n",
        "\n",
        "unique_list_of_genres = list(dict.fromkeys(unique_list_of_genres))\n",
        "for genre in unique_list_of_genres:\n",
        "    df[genre] = df['genres'].apply(lambda x: 1 if genre in x.split(';') else 0)"
      ],
      "execution_count": 0,
      "outputs": []
    },
    {
      "cell_type": "markdown",
      "metadata": {
        "id": "gfdjIsbKmfPU",
        "colab_type": "text"
      },
      "source": [
        "Dummy das categories"
      ]
    },
    {
      "cell_type": "code",
      "metadata": {
        "id": "b-3qgvEymgLr",
        "colab_type": "code",
        "colab": {}
      },
      "source": [
        "categories = (df['categories'].apply(lambda x: str(x)\n",
        "                                     .split(\",\")))\n",
        "categories = categories.to_list()\n",
        "unique_list_of_categories = []\n",
        "for list_of_each_game in categories:\n",
        "    splited_string = list_of_each_game[0].split(';')\n",
        "    for category in splited_string:\n",
        "        unique_list_of_categories.append(category)\n",
        "\n",
        "unique_list_of_categories = list(dict.fromkeys(unique_list_of_categories))\n",
        "for category in unique_list_of_categories:\n",
        "    df['C_'+category] = df['categories'].apply(lambda x: 1 if category in x.split(';') else 0)"
      ],
      "execution_count": 0,
      "outputs": []
    },
    {
      "cell_type": "code",
      "metadata": {
        "id": "DR4Gf7Ijm06r",
        "colab_type": "code",
        "colab": {}
      },
      "source": [
        "df.columns"
      ],
      "execution_count": 0,
      "outputs": []
    },
    {
      "cell_type": "code",
      "metadata": {
        "id": "pqxFSdybnCNw",
        "colab_type": "code",
        "colab": {}
      },
      "source": [
        "print(df.loc[1])"
      ],
      "execution_count": 0,
      "outputs": []
    },
    {
      "cell_type": "markdown",
      "metadata": {
        "id": "auLCJp68naqW",
        "colab_type": "text"
      },
      "source": [
        "Começo da etapa de separação de dados para a classificação\n",
        "__________________________________________________________"
      ]
    },
    {
      "cell_type": "markdown",
      "metadata": {
        "id": "zRCVEE1Tnnd7",
        "colab_type": "text"
      },
      "source": [
        "Separação de atributos para classificação, e a classificação em si (X e y)."
      ]
    },
    {
      "cell_type": "code",
      "metadata": {
        "id": "tFsqck5lnaJV",
        "colab_type": "code",
        "outputId": "4739af80-8395-415c-b703-720f8b5efd00",
        "colab": {
          "base_uri": "https://localhost:8080/",
          "height": 391
        }
      },
      "source": [
        "X = df.iloc[:, [10, 11, 13, 14, 15, 16, 17, 18, 19, 20 ,21 ,22, 23, 24, 25, 26, 26, 28, 29, 30, 31, 32, 33, 34, 35, 36, 37, 38, 39, 40, 41, 42, 43, 44, 45, 46, 47, 48\n",
        ", 49, 50, 51, 52, 53, 54, 55, 56, 57, 58, 59, 60, 61, 62, 63, 64, 65, 66, 67, 68, 69, 70]].values\n",
        "y = df.iloc[:, 12].values\n",
        "\n",
        "print(X.shape)\n",
        "print(y.shape)\n",
        "\n",
        "print(df.columns)"
      ],
      "execution_count": 0,
      "outputs": [
        {
          "output_type": "stream",
          "text": [
            "(27075, 60)\n",
            "(27075,)\n",
            "Index(['name', 'release_date', 'developer', 'publisher', 'platforms',\n",
            "       'categories', 'genres', 'steamspy_tags', 'achievements',\n",
            "       'average_playtime', 'owners', 'price', 'c', 'Action', 'Free to Play',\n",
            "       'Strategy', 'Adventure', 'Indie', 'RPG', 'Animation & Modeling',\n",
            "       'Video Production', 'Casual', 'Simulation', 'Racing', 'Violent',\n",
            "       'Massively Multiplayer', 'Nudity', 'Sports', 'Early Access', 'Gore',\n",
            "       'Utilities', 'Design & Illustration', 'Web Publishing', 'Education',\n",
            "       'Software Training', 'Sexual Content', 'Audio Production',\n",
            "       'Game Development', 'Photo Editing', 'Accounting', 'Documentary',\n",
            "       'Tutorial', 'C_Multi-player', 'C_Online Multi-Player',\n",
            "       'C_Local Multi-Player', 'C_Valve Anti-Cheat enabled', 'C_Single-player',\n",
            "       'C_Steam Cloud', 'C_Steam Achievements', 'C_Steam Trading Cards',\n",
            "       'C_Captions available', 'C_Partial Controller Support',\n",
            "       'C_Includes Source SDK', 'C_Cross-Platform Multiplayer', 'C_Stats',\n",
            "       'C_Commentary available', 'C_Includes level editor', 'C_Steam Workshop',\n",
            "       'C_In-App Purchases', 'C_Co-op', 'C_Full controller support',\n",
            "       'C_Steam Leaderboards', 'C_SteamVR Collectibles', 'C_Online Co-op',\n",
            "       'C_Shared/Split Screen', 'C_Local Co-op', 'C_MMO', 'C_VR Support',\n",
            "       'C_Mods', 'C_Mods (require HL2)', 'C_Steam Turn Notifications'],\n",
            "      dtype='object')\n"
          ],
          "name": "stdout"
        }
      ]
    },
    {
      "cell_type": "markdown",
      "metadata": {
        "id": "_NlpUbWFosrg",
        "colab_type": "text"
      },
      "source": [
        "Utilização da função SelectKBest para selecionar os 10 melhores atributos para a classificação"
      ]
    },
    {
      "cell_type": "code",
      "metadata": {
        "id": "KvgqPYCkorQ1",
        "colab_type": "code",
        "colab": {}
      },
      "source": [
        "from sklearn.feature_selection import SelectKBest, chi2\n",
        "\n",
        "X = SelectKBest(chi2, k=10).fit_transform(X, y)"
      ],
      "execution_count": 0,
      "outputs": []
    },
    {
      "cell_type": "markdown",
      "metadata": {
        "id": "BgzeNW1ToBeh",
        "colab_type": "text"
      },
      "source": [
        "\n",
        "Separação dos dados de treino e dados de predição\n",
        "---\n",
        "\n"
      ]
    },
    {
      "cell_type": "code",
      "metadata": {
        "id": "hb8ZFpIenOdO",
        "colab_type": "code",
        "colab": {}
      },
      "source": [
        "from sklearn.model_selection import train_test_split\n",
        "X_train, X_test, y_train, y_test = train_test_split(X, y, test_size=0.30)\n",
        "\n",
        "print(X_train.shape)\n",
        "print(y_train.shape)\n",
        "print(X_test.shape)\n",
        "print(y_test.shape)"
      ],
      "execution_count": 0,
      "outputs": []
    },
    {
      "cell_type": "markdown",
      "metadata": {
        "id": "cntNWYqupdKH",
        "colab_type": "text"
      },
      "source": [
        "\n",
        "Classificando com arvore de decisão\n",
        "---\n",
        "\n"
      ]
    },
    {
      "cell_type": "code",
      "metadata": {
        "id": "mhh4KUSZpjBm",
        "colab_type": "code",
        "colab": {}
      },
      "source": [
        "from sklearn.tree import DecisionTreeClassifier\n",
        "from sklearn import metrics\n",
        "\n",
        "\n",
        "clf = DecisionTreeClassifier()\n"
      ],
      "execution_count": 0,
      "outputs": []
    },
    {
      "cell_type": "code",
      "metadata": {
        "id": "DsW_x9rbqfX-",
        "colab_type": "code",
        "colab": {}
      },
      "source": [
        "accuracy_dt_sum = 0\n",
        "for i in range(0, 10):\n",
        "  clf = clf.fit(X_train,y_train)\n",
        "  y_pred = clf.predict(X_test)\n",
        "  accuracy_dt_sum += metrics.accuracy_score(y_test, y_pred)\n",
        "\n",
        "accuracy_dt_avg = accuracy_dt_sum/10"
      ],
      "execution_count": 0,
      "outputs": []
    },
    {
      "cell_type": "markdown",
      "metadata": {
        "id": "N1mf1XaKqRLJ",
        "colab_type": "text"
      },
      "source": [
        "Calculando média da acurácia"
      ]
    },
    {
      "cell_type": "code",
      "metadata": {
        "id": "Aj_I_dxKrjH-",
        "colab_type": "code",
        "colab": {}
      },
      "source": [
        "print(accuracy_dt_avg)"
      ],
      "execution_count": 0,
      "outputs": []
    },
    {
      "cell_type": "markdown",
      "metadata": {
        "id": "GrFwyNa0t85k",
        "colab_type": "text"
      },
      "source": [
        ""
      ]
    },
    {
      "cell_type": "markdown",
      "metadata": {
        "colab_type": "text",
        "id": "aHum6qf1t9Ie"
      },
      "source": [
        "Classificando com KNN (11 vizinhos)\n",
        "---"
      ]
    },
    {
      "cell_type": "code",
      "metadata": {
        "colab_type": "code",
        "id": "DIJe8a6Vt9Ig",
        "colab": {}
      },
      "source": [
        "from sklearn.neighbors import KNeighborsClassifier\n",
        "\n",
        "classifier_knn11 = KNeighborsClassifier(n_neighbors=11)"
      ],
      "execution_count": 0,
      "outputs": []
    },
    {
      "cell_type": "code",
      "metadata": {
        "colab_type": "code",
        "id": "kCDvKh3vt9Ii",
        "colab": {}
      },
      "source": [
        "accuracy_knn11_sum = 0\n",
        "for i in range(0, 10):\n",
        "  classifier_knn11.fit(X_train, y_train)\n",
        "  y_pred = classifier_knn11.predict(X_test)\n",
        "  accuracy_knn11_sum += metrics.accuracy_score(y_test, y_pred)\n",
        "\n",
        "accuracy_knn11_avg = accuracy_knn11_sum/10"
      ],
      "execution_count": 0,
      "outputs": []
    },
    {
      "cell_type": "markdown",
      "metadata": {
        "colab_type": "text",
        "id": "6N7Wgb_9t9Ij"
      },
      "source": [
        "Calculando média da acurácia"
      ]
    },
    {
      "cell_type": "code",
      "metadata": {
        "colab_type": "code",
        "id": "yvrWRgvOt9Ik",
        "colab": {}
      },
      "source": [
        "print(accuracy_knn11_avg)"
      ],
      "execution_count": 0,
      "outputs": []
    },
    {
      "cell_type": "markdown",
      "metadata": {
        "colab_type": "text",
        "id": "K3Ju1OmgtcmU"
      },
      "source": [
        "Classificando com KNN (7 vizinhos)\n",
        "---"
      ]
    },
    {
      "cell_type": "code",
      "metadata": {
        "colab_type": "code",
        "id": "8pfi4U-stcmW",
        "colab": {}
      },
      "source": [
        "from sklearn.neighbors import KNeighborsClassifier\n",
        "\n",
        "classifier_knn7 = KNeighborsClassifier(n_neighbors=7)"
      ],
      "execution_count": 0,
      "outputs": []
    },
    {
      "cell_type": "code",
      "metadata": {
        "colab_type": "code",
        "id": "GtQRl9hstcmY",
        "colab": {}
      },
      "source": [
        "accuracy_knn7_sum = 0\n",
        "for i in range(0, 10):\n",
        "  classifier_knn7.fit(X_train, y_train)\n",
        "  y_pred = classifier_knn7.predict(X_test)\n",
        "  accuracy_knn7_sum += metrics.accuracy_score(y_test, y_pred)\n",
        "\n",
        "accuracy_knn7_avg = accuracy_knn7_sum/10"
      ],
      "execution_count": 0,
      "outputs": []
    },
    {
      "cell_type": "markdown",
      "metadata": {
        "colab_type": "text",
        "id": "8lxmKpwytcma"
      },
      "source": [
        "Calculando média da acurácia"
      ]
    },
    {
      "cell_type": "code",
      "metadata": {
        "colab_type": "code",
        "id": "6-VtyzcOtcma",
        "colab": {}
      },
      "source": [
        "print(accuracy_knn7_avg)"
      ],
      "execution_count": 0,
      "outputs": []
    },
    {
      "cell_type": "markdown",
      "metadata": {
        "id": "f1HUEJKssHIq",
        "colab_type": "text"
      },
      "source": [
        "Classificando com KNN (5 vizinhos)\n",
        "---"
      ]
    },
    {
      "cell_type": "code",
      "metadata": {
        "id": "dssYk4_4rwXz",
        "colab_type": "code",
        "colab": {}
      },
      "source": [
        "from sklearn.neighbors import KNeighborsClassifier\n",
        "\n",
        "classifier_knn5 = KNeighborsClassifier(n_neighbors=5)"
      ],
      "execution_count": 0,
      "outputs": []
    },
    {
      "cell_type": "code",
      "metadata": {
        "id": "-F86VM9er-Kq",
        "colab_type": "code",
        "colab": {}
      },
      "source": [
        "accuracy_knn5_sum = 0\n",
        "for i in range(0, 10):\n",
        "  classifier_knn5.fit(X_train, y_train)\n",
        "  y_pred = classifier_knn5.predict(X_test)\n",
        "  accuracy_knn5_sum += metrics.accuracy_score(y_test, y_pred)\n",
        "\n",
        "accuracy_knn5_avg = accuracy_knn5_sum/10"
      ],
      "execution_count": 0,
      "outputs": []
    },
    {
      "cell_type": "markdown",
      "metadata": {
        "id": "_lSWoA9CsdGH",
        "colab_type": "text"
      },
      "source": [
        "Calculando média da acurácia"
      ]
    },
    {
      "cell_type": "code",
      "metadata": {
        "id": "ZGBcVsCNsguu",
        "colab_type": "code",
        "colab": {}
      },
      "source": [
        "print(accuracy_knn5_avg)"
      ],
      "execution_count": 0,
      "outputs": []
    },
    {
      "cell_type": "markdown",
      "metadata": {
        "colab_type": "text",
        "id": "RzGi_X3ys5_O"
      },
      "source": [
        "Classificando com KNN (3 vizinhos)\n",
        "---"
      ]
    },
    {
      "cell_type": "code",
      "metadata": {
        "colab_type": "code",
        "id": "Jv0gCQD7s5_P",
        "colab": {}
      },
      "source": [
        "classifier_knn3 = KNeighborsClassifier(n_neighbors=3)"
      ],
      "execution_count": 0,
      "outputs": []
    },
    {
      "cell_type": "code",
      "metadata": {
        "colab_type": "code",
        "id": "II1ldCj9s5_R",
        "colab": {}
      },
      "source": [
        "accuracy_knn3_sum = 0\n",
        "for i in range(0, 10):\n",
        "  classifier_knn3.fit(X_train, y_train)\n",
        "  y_pred = classifier_knn3.predict(X_test)\n",
        "  accuracy_knn3_sum += metrics.accuracy_score(y_test, y_pred)\n",
        "\n",
        "accuracy_knn3_avg = accuracy_knn3_sum/10"
      ],
      "execution_count": 0,
      "outputs": []
    },
    {
      "cell_type": "markdown",
      "metadata": {
        "colab_type": "text",
        "id": "gvTJyw7bs5_S"
      },
      "source": [
        "Calculando média da acurácia"
      ]
    },
    {
      "cell_type": "code",
      "metadata": {
        "colab_type": "code",
        "id": "VBPTeSHWs5_T",
        "colab": {}
      },
      "source": [
        "print(accuracy_knn3_avg)"
      ],
      "execution_count": 0,
      "outputs": []
    },
    {
      "cell_type": "markdown",
      "metadata": {
        "id": "Dya1WUd7ufDw",
        "colab_type": "text"
      },
      "source": [
        "**Refazendo testes sem utilizar SelectKBest**\n",
        "---\n",
        "\n"
      ]
    },
    {
      "cell_type": "code",
      "metadata": {
        "colab_type": "code",
        "outputId": "1dee3f0f-fcc4-41a9-cf6a-255348f4244a",
        "id": "mUFz2HaYuba3",
        "colab": {
          "base_uri": "https://localhost:8080/",
          "height": 51
        }
      },
      "source": [
        "X = df.iloc[:, [10, 11, 13, 14, 15, 16, 17, 18, 19, 20 ,21 ,22, 23, 24, 25, 26, 26, 28, 29, 30, 31, 32, 33, 34, 35, 36, 37, 38, 39, 40, 41, 42, 43, 44, 45, 46, 47, 48\n",
        ", 49, 50, 51, 52, 53, 54, 55, 56, 57, 58, 59, 60, 61, 62, 63, 64, 65, 66, 67, 68, 69, 70]].values\n",
        "y = df.iloc[:, 12].values\n",
        "\n",
        "print(X.shape)\n",
        "print(y.shape)"
      ],
      "execution_count": 0,
      "outputs": [
        {
          "output_type": "stream",
          "text": [
            "(27075, 60)\n",
            "(27075,)\n"
          ],
          "name": "stdout"
        }
      ]
    },
    {
      "cell_type": "markdown",
      "metadata": {
        "colab_type": "text",
        "id": "U_zWEppGuba-"
      },
      "source": [
        "\n",
        "Separação dos dados de treino e dados de predição\n",
        "---\n",
        "\n"
      ]
    },
    {
      "cell_type": "code",
      "metadata": {
        "colab_type": "code",
        "outputId": "529c3b85-9867-4c38-881f-de5c6090c876",
        "id": "Lp6B6zRpuba_",
        "colab": {
          "base_uri": "https://localhost:8080/",
          "height": 85
        }
      },
      "source": [
        "from sklearn.model_selection import train_test_split\n",
        "X_train, X_test, y_train, y_test = train_test_split(X, y, test_size=0.30)\n",
        "\n",
        "print(X_train.shape)\n",
        "print(y_train.shape)\n",
        "print(X_test.shape)\n",
        "print(y_test.shape)"
      ],
      "execution_count": 0,
      "outputs": [
        {
          "output_type": "stream",
          "text": [
            "(18952, 60)\n",
            "(18952,)\n",
            "(8123, 60)\n",
            "(8123,)\n"
          ],
          "name": "stdout"
        }
      ]
    },
    {
      "cell_type": "markdown",
      "metadata": {
        "colab_type": "text",
        "id": "9zXFHuMBubbA"
      },
      "source": [
        "\n",
        "Classificando com arvore de decisão\n",
        "---\n",
        "\n"
      ]
    },
    {
      "cell_type": "code",
      "metadata": {
        "colab_type": "code",
        "id": "MVOfE41BubbB",
        "colab": {}
      },
      "source": [
        "from sklearn.tree import DecisionTreeClassifier\n",
        "from sklearn import metrics\n",
        "\n",
        "\n",
        "clf_no_select = DecisionTreeClassifier()\n"
      ],
      "execution_count": 0,
      "outputs": []
    },
    {
      "cell_type": "code",
      "metadata": {
        "colab_type": "code",
        "id": "H2AVygXaubbC",
        "colab": {}
      },
      "source": [
        "accuracy_dt_sum_no_select = 0\n",
        "for i in range(0, 10):\n",
        "  clf = clf_no_select.fit(X_train,y_train)\n",
        "  y_pred = clf_no_select.predict(X_test)\n",
        "  accuracy_dt_sum_no_select += metrics.accuracy_score(y_test, y_pred)\n",
        "\n",
        "accuracy_dt_avg_no_select = accuracy_dt_sum_no_select/10"
      ],
      "execution_count": 0,
      "outputs": []
    },
    {
      "cell_type": "markdown",
      "metadata": {
        "colab_type": "text",
        "id": "ffclKrCoubbE"
      },
      "source": [
        "Calculando média da acurácia"
      ]
    },
    {
      "cell_type": "code",
      "metadata": {
        "colab_type": "code",
        "id": "CTE_U0gyubbF",
        "colab": {}
      },
      "source": [
        "print(accuracy_dt_avg_no_select)"
      ],
      "execution_count": 0,
      "outputs": []
    },
    {
      "cell_type": "markdown",
      "metadata": {
        "colab_type": "text",
        "id": "5VUMk55NubbH"
      },
      "source": [
        ""
      ]
    },
    {
      "cell_type": "markdown",
      "metadata": {
        "colab_type": "text",
        "id": "7v_ZomM_ubbH"
      },
      "source": [
        "Classificando com KNN (11 vizinhos)\n",
        "---"
      ]
    },
    {
      "cell_type": "code",
      "metadata": {
        "colab_type": "code",
        "id": "taNzqpQkubbI",
        "colab": {}
      },
      "source": [
        "from sklearn.neighbors import KNeighborsClassifier\n",
        "from sklearn.metrics import confusion_matrix\n",
        "\n",
        "classifier_knn11_no_select = KNeighborsClassifier(n_neighbors=11)"
      ],
      "execution_count": 0,
      "outputs": []
    },
    {
      "cell_type": "code",
      "metadata": {
        "colab_type": "code",
        "id": "Mdz96_6UubbJ",
        "outputId": "87f2cd0a-e787-492e-85fa-dc8995f28a18",
        "colab": {
          "base_uri": "https://localhost:8080/",
          "height": 187
        }
      },
      "source": [
        "accuracy_knn11_sum_no_select = 0\n",
        "for i in range(0, 10):\n",
        "  classifier_knn11_no_select.fit(X_train, y_train)\n",
        "  y_pred = classifier_knn11_no_select.predict(X_test)\n",
        "  accuracy_knn11_sum_no_select += metrics.accuracy_score(y_test, y_pred)\n",
        "  print(metrics.accuracy_score(y_test, y_pred))\n",
        "accuracy_knn11_avg_no_select = accuracy_knn11_sum_no_select/10"
      ],
      "execution_count": 0,
      "outputs": [
        {
          "output_type": "stream",
          "text": [
            "0.8027822233165087\n",
            "0.8027822233165087\n",
            "0.8027822233165087\n",
            "0.8027822233165087\n",
            "0.8027822233165087\n",
            "0.8027822233165087\n",
            "0.8027822233165087\n",
            "0.8027822233165087\n",
            "0.8027822233165087\n",
            "0.8027822233165087\n"
          ],
          "name": "stdout"
        }
      ]
    },
    {
      "cell_type": "markdown",
      "metadata": {
        "colab_type": "text",
        "id": "zLw_qAcWubbL"
      },
      "source": [
        "Calculando média da acurácia"
      ]
    },
    {
      "cell_type": "code",
      "metadata": {
        "colab_type": "code",
        "outputId": "1c834c43-df4a-45fe-f7d9-0f72967ccf0a",
        "id": "gqIzxmaPubbL",
        "colab": {
          "base_uri": "https://localhost:8080/",
          "height": 68
        }
      },
      "source": [
        "print(metrics.confusion_matrix(y_test, y_pred))\n",
        "print(accuracy_knn11_avg_no_select)"
      ],
      "execution_count": 0,
      "outputs": [
        {
          "output_type": "stream",
          "text": [
            "[[  42 1494]\n",
            " [ 241 6346]]\n",
            "0.8027822233165087\n"
          ],
          "name": "stdout"
        }
      ]
    },
    {
      "cell_type": "markdown",
      "metadata": {
        "colab_type": "text",
        "id": "9mXPXtFmubbN"
      },
      "source": [
        "Classificando com KNN (7 vizinhos)\n",
        "---"
      ]
    },
    {
      "cell_type": "code",
      "metadata": {
        "colab_type": "code",
        "id": "6SqjaAy9ubbN",
        "colab": {}
      },
      "source": [
        "from sklearn.neighbors import KNeighborsClassifier\n",
        "\n",
        "classifier_knn7_no_select = KNeighborsClassifier(n_neighbors=7)"
      ],
      "execution_count": 0,
      "outputs": []
    },
    {
      "cell_type": "code",
      "metadata": {
        "colab_type": "code",
        "id": "JYRahOXDubbP",
        "colab": {}
      },
      "source": [
        "accuracy_knn7_sum_no_select = 0\n",
        "for i in range(0, 10):\n",
        "  classifier_knn7_no_select.fit(X_train, y_train)\n",
        "  y_pred = classifier_knn7_no_select.predict(X_test)\n",
        "  accuracy_knn7_sum_no_select += metrics.accuracy_score(y_test, y_pred)\n",
        "\n",
        "accuracy_knn7_avg_no_select = accuracy_knn7_sum_no_select/10"
      ],
      "execution_count": 0,
      "outputs": []
    },
    {
      "cell_type": "markdown",
      "metadata": {
        "colab_type": "text",
        "id": "4yIAwqdTubbQ"
      },
      "source": [
        "Calculando média da acurácia"
      ]
    },
    {
      "cell_type": "code",
      "metadata": {
        "colab_type": "code",
        "id": "E35_fP3dubbR",
        "colab": {}
      },
      "source": [
        "print(accuracy_knn7_avg_no_select)"
      ],
      "execution_count": 0,
      "outputs": []
    },
    {
      "cell_type": "markdown",
      "metadata": {
        "colab_type": "text",
        "id": "zFsz1-9hubbS"
      },
      "source": [
        "Classificando com KNN (5 vizinhos)\n",
        "---"
      ]
    },
    {
      "cell_type": "code",
      "metadata": {
        "colab_type": "code",
        "id": "HgLzQw3LubbT",
        "colab": {}
      },
      "source": [
        "from sklearn.neighbors import KNeighborsClassifier\n",
        "\n",
        "classifier_knn5_no_select = KNeighborsClassifier(n_neighbors=5)"
      ],
      "execution_count": 0,
      "outputs": []
    },
    {
      "cell_type": "code",
      "metadata": {
        "colab_type": "code",
        "id": "7Gh_klJPubbU",
        "colab": {}
      },
      "source": [
        "accuracy_knn5_sum_no_select = 0\n",
        "for i in range(0, 10):\n",
        "  classifier_knn5_no_select.fit(X_train, y_train)\n",
        "  y_pred = classifier_knn5_no_select.predict(X_test)\n",
        "  accuracy_knn5_sum_no_select += metrics.accuracy_score(y_test, y_pred)\n",
        "\n",
        "accuracy_knn5_avg_no_select = accuracy_knn5_sum_no_select/10"
      ],
      "execution_count": 0,
      "outputs": []
    },
    {
      "cell_type": "markdown",
      "metadata": {
        "colab_type": "text",
        "id": "oTKNUrZMubbV"
      },
      "source": [
        "Calculando média da acurácia"
      ]
    },
    {
      "cell_type": "code",
      "metadata": {
        "colab_type": "code",
        "id": "rq0sXFPVubbW",
        "colab": {}
      },
      "source": [
        "print(accuracy_knn5_avg_no_select)"
      ],
      "execution_count": 0,
      "outputs": []
    },
    {
      "cell_type": "markdown",
      "metadata": {
        "colab_type": "text",
        "id": "kFNv_G9GubbY"
      },
      "source": [
        "Classificando com KNN (3 vizinhos)\n",
        "---"
      ]
    },
    {
      "cell_type": "code",
      "metadata": {
        "colab_type": "code",
        "id": "br3FF6LeubbY",
        "colab": {}
      },
      "source": [
        "classifier_knn3_no_select = KNeighborsClassifier(n_neighbors=3)"
      ],
      "execution_count": 0,
      "outputs": []
    },
    {
      "cell_type": "code",
      "metadata": {
        "colab_type": "code",
        "id": "F9bumJY3ubba",
        "colab": {}
      },
      "source": [
        "accuracy_knn3_sum_no_select = 0\n",
        "for i in range(0, 10):\n",
        "  classifier_knn3_no_select.fit(X_train, y_train)\n",
        "  y_pred = classifier_knn3_no_select.predict(X_test)\n",
        "  accuracy_knn3_sum_no_select += metrics.accuracy_score(y_test, y_pred)\n",
        "\n",
        "accuracy_knn3_avg_no_select = accuracy_knn3_sum_no_select/10"
      ],
      "execution_count": 0,
      "outputs": []
    },
    {
      "cell_type": "markdown",
      "metadata": {
        "colab_type": "text",
        "id": "v519tx5iubbc"
      },
      "source": [
        "Calculando média da acurácia"
      ]
    },
    {
      "cell_type": "code",
      "metadata": {
        "colab_type": "code",
        "id": "wiAy_XsTubbd",
        "colab": {}
      },
      "source": [
        "print(accuracy_knn3_avg_no_select)"
      ],
      "execution_count": 0,
      "outputs": []
    },
    {
      "cell_type": "code",
      "metadata": {
        "id": "hWrxjtCPT_8u",
        "colab_type": "code",
        "colab": {}
      },
      "source": [
        "import matplotlib.pyplot as plt\n",
        "plt.figure(figsize=(15, 10))\n",
        "plt.plot([accuracy_dt_avg, accuracy_knn11_avg, accuracy_knn7_avg, accuracy_knn5_avg, accuracy_knn3_avg, accuracy_dt_avg_no_select, accuracy_knn11_avg_no_select, accuracy_knn7_avg_no_select, accuracy_knn5_avg_no_select,accuracy_knn3_avg_no_select])\n",
        "\n",
        "plt.text(0, accuracy_dt_avg, accuracy_dt_avg)\n",
        "plt.text(1, accuracy_knn11_avg, accuracy_knn11_avg)\n",
        "plt.text(2, accuracy_knn7_avg, accuracy_knn7_avg)\n",
        "plt.text(3, accuracy_knn5_avg, accuracy_knn5_avg)\n",
        "plt.text(4, accuracy_knn3_avg, accuracy_knn3_avg)\n",
        "plt.text(5, accuracy_dt_avg_no_select, accuracy_dt_avg_no_select)\n",
        "plt.text(6, accuracy_knn11_avg_no_select, accuracy_knn11_avg_no_select)\n",
        "plt.text(7, accuracy_knn7_avg_no_select, accuracy_knn7_avg_no_select)\n",
        "plt.text(8, accuracy_knn5_avg_no_select, accuracy_knn5_avg_no_select)\n",
        "plt.text(9, accuracy_knn3_avg_no_select, accuracy_knn3_avg_no_select)\n",
        "\n",
        "plt.xticks([i for i in range(0, 12)])\n",
        "plt.yticks([0.73, 0.74, 0.75, 0.76, 0.77, 0.78, 0.79, 0.80, 0.81])\n"
      ],
      "execution_count": 0,
      "outputs": []
    },
    {
      "cell_type": "markdown",
      "metadata": {
        "id": "9wl0nLYz7zkf",
        "colab_type": "text"
      },
      "source": [
        ""
      ]
    }
  ]
}